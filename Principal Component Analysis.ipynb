{
 "cells": [
  {
   "cell_type": "code",
   "execution_count": 7,
   "metadata": {
    "collapsed": true
   },
   "outputs": [],
   "source": [
    "%matplotlib inline\n",
    "import numpy as np\n",
    "import matplotlib.pyplot as plt\n",
    "from numpy import linalg as LA\n",
    "import pandas as pd\n",
    "from matplotlib.mlab import PCA\n",
    "from sklearn import datasets\n",
    "from mpl_toolkits.mplot3d.axes3d import Axes3D, get_test_data\n"
   ]
  },
  {
   "cell_type": "code",
   "execution_count": 2,
   "metadata": {
    "collapsed": true
   },
   "outputs": [],
   "source": [
    "def import_data(file_location):\n",
    "    from numpy import genfromtxt\n",
    "    return genfromtxt(file_location, delimiter=',',skip_header=1)"
   ]
  },
  {
   "cell_type": "code",
   "execution_count": 3,
   "metadata": {
    "collapsed": true
   },
   "outputs": [],
   "source": [
    "def my_PCA(input):\n",
    "    \n",
    "    #calculating mean of each column\n",
    "    mean = np.mean(input,0)\n",
    "    #subtracting the mean from original input matrix\n",
    "    normalised_input = np.subtract(input,mean)\n",
    "    #Taking transpose of the normalised matrix\n",
    "    normalised_input_transpose = np.transpose(normalised_input)\n",
    "    #calculating number of samples\n",
    "    num_of_samples = input.shape[0]\n",
    "    #multiplying the matrices and dividing it by \"num of samples\" to get the covarience\n",
    "    cov_mat = (np.dot(normalised_input_transpose,normalised_input))/(num_of_samples)\n",
    "    print(\"Covarience Matrix\")\n",
    "    print(cov_mat)\n",
    "    \n",
    "    #finding eigenvalues and eigenvectors\n",
    "    value,vector = np.linalg.eig(np.array(cov_mat))\n",
    "    print(\"Eigen Value\")\n",
    "    print(value)\n",
    "    print(\"EigenVector\")\n",
    "    print(vector)\n",
    "    size = vector.shape\n",
    "    print(size)\n",
    "    \n",
    "    #new code for sorting the eigenvectors according to eigenvalues\n",
    "    index = value.argsort()[::-1]\n",
    "    eigen_value = value[index]\n",
    "    prin_component = vector[:,index]\n",
    "    \n",
    "    \n",
    "    print(\"Principal Components\")\n",
    "    print(prin_component)\n",
    "    \n",
    "    \n",
    "    #multiplying principal component matrix with input to get pca\n",
    "    pca_output = np.dot(normalised_input,prin_component)\n",
    "    \n",
    "    print(\"New Reduced Dimension Data\")\n",
    "    print(pca_output)\n",
    "\n",
    "    return pca_output,eigen_value,prin_component,cov_mat"
   ]
  },
  {
   "cell_type": "code",
   "execution_count": 5,
   "metadata": {
    "collapsed": true
   },
   "outputs": [],
   "source": [
    "#Importing the Dataset:\n",
    "df = pd.DataFrame.from_csv(\"/Users/hhundiwala/Documents/SPL/quiz2_data.csv\")\n",
    "data_matrix = df.as_matrix()"
   ]
  },
  {
   "cell_type": "code",
   "execution_count": 6,
   "metadata": {},
   "outputs": [
    {
     "name": "stdout",
     "output_type": "stream",
     "text": [
      "Covarience Matrix\n",
      "[[  2.47165734e+09   1.84628029e+09  -8.38623536e+08 ...,   1.34585274e+09\n",
      "    4.67040821e+09   1.90218068e+08]\n",
      " [  1.84628029e+09   2.00766213e+10  -6.27535189e+08 ...,   1.92446322e+09\n",
      "   -1.75311090e+10   1.80651307e+09]\n",
      " [ -8.38623536e+08  -6.27535189e+08   2.13035355e+10 ...,  -3.33927927e+09\n",
      "   -9.59817856e+09  -5.31840182e+09]\n",
      " ..., \n",
      " [  1.34585274e+09   1.92446322e+09  -3.33927927e+09 ...,   1.03583298e+10\n",
      "    1.33594372e+10   1.51070990e+09]\n",
      " [  4.67040821e+09  -1.75311090e+10  -9.59817856e+09 ...,   1.33594372e+10\n",
      "    2.49774904e+11  -1.03306110e+09]\n",
      " [  1.90218068e+08   1.80651307e+09  -5.31840182e+09 ...,   1.51070990e+09\n",
      "   -1.03306110e+09   3.91142591e+09]]\n",
      "Eigen Value\n",
      "[  1.31192949e+12 +0.00000000e+00j   4.88208067e+11 +0.00000000e+00j\n",
      "   4.25589296e+11 +0.00000000e+00j   3.12228185e+11 +0.00000000e+00j\n",
      "   2.10897817e+11 +0.00000000e+00j   1.24916021e+11 +0.00000000e+00j\n",
      "   9.44021976e+10 +0.00000000e+00j   7.29480963e+10 +0.00000000e+00j\n",
      "   5.35728926e+10 +0.00000000e+00j   4.18273765e+10 +0.00000000e+00j\n",
      "   3.11658084e+10 +0.00000000e+00j   2.08720687e+10 +0.00000000e+00j\n",
      "   1.87471745e+10 +0.00000000e+00j   1.63267828e+10 +0.00000000e+00j\n",
      "   1.25719684e+10 +0.00000000e+00j   7.95263654e+09 +0.00000000e+00j\n",
      "   6.43565323e+09 +0.00000000e+00j   5.35692442e+09 +0.00000000e+00j\n",
      "   4.83328007e+09 +0.00000000e+00j   4.33936546e+09 +0.00000000e+00j\n",
      "   2.33965159e+09 +0.00000000e+00j   1.56474043e+09 +0.00000000e+00j\n",
      "   1.28845766e+09 +0.00000000e+00j   9.09969464e+08 +0.00000000e+00j\n",
      "   7.48081285e+08 +0.00000000e+00j   5.85008407e+08 +0.00000000e+00j\n",
      "   5.08936036e+08 +0.00000000e+00j   3.72860900e+08 +0.00000000e+00j\n",
      "   2.81663392e+08 +0.00000000e+00j   2.19582513e+08 +0.00000000e+00j\n",
      "   1.94141063e+08 +0.00000000e+00j   1.48186990e+08 +0.00000000e+00j\n",
      "   1.12226541e+08 +0.00000000e+00j   7.21235131e+07 +0.00000000e+00j\n",
      "   4.67915827e+07 +0.00000000e+00j   3.32283001e+07 +0.00000000e+00j\n",
      "   2.76961158e+07 +0.00000000e+00j   1.23565056e+07 +0.00000000e+00j\n",
      "   5.76403959e+06 +0.00000000e+00j   5.63936608e-06 +2.05403938e-05j\n",
      "   5.63936608e-06 -2.05403938e-05j   1.48514844e-05 +4.56038324e-06j\n",
      "   1.48514844e-05 -4.56038324e-06j  -1.77283682e-05 +0.00000000e+00j\n",
      "  -1.15394433e-05 +0.00000000e+00j  -3.21030139e-06 +0.00000000e+00j\n",
      "   1.17191638e-07 +1.08361485e-06j   1.17191638e-07 -1.08361485e-06j\n",
      "   4.44666676e-06 +0.00000000e+00j]\n",
      "EigenVector\n",
      "[[  7.93051393e-03+0.j          -2.83997750e-02+0.j          -1.28956997e-03+0.j\n",
      "  ...,  -4.91148970e-02-0.03929888j  -4.91148970e-02+0.03929888j\n",
      "    3.76457324e-02+0.j        ]\n",
      " [ -2.32380026e-02+0.j          -3.99161357e-02+0.j           1.75406345e-02+0.j\n",
      "  ...,   2.26576306e-02+0.00060789j   2.26576306e-02-0.00060789j\n",
      "   -1.60156978e-02+0.j        ]\n",
      " [  4.32457569e-03+0.j           4.71650153e-02+0.j          -3.01494356e-03+0.j\n",
      "  ...,  -2.12106387e-02-0.00507666j  -2.12106387e-02+0.00507666j\n",
      "    1.84089495e-02+0.j        ]\n",
      " ..., \n",
      " [  5.13029627e-02+0.j          -5.75963806e-02+0.j           5.27732982e-02+0.j\n",
      "  ...,  -5.10133588e-03-0.0053055j   -5.10133588e-03+0.0053055j\n",
      "    1.11893936e-01+0.j        ]\n",
      " [  3.28608356e-01+0.j          -1.22535611e-01+0.j          -2.28664856e-01+0.j\n",
      "  ...,  -1.77922630e-02-0.00023157j  -1.77922630e-02+0.00023157j\n",
      "   -1.23575420e-02+0.j        ]\n",
      " [ -1.60603408e-02+0.j          -4.00393952e-02+0.j          -1.02045115e-02+0.j\n",
      "  ...,   5.52621833e-02+0.01037616j   5.52621833e-02-0.01037616j\n",
      "   -1.61491922e-04+0.j        ]]\n",
      "(49, 49)\n",
      "Principal Components\n",
      "[[ 0.00793051+0.j -0.02839977+0.j -0.00128957+0.j ...,  0.10263686+0.j\n",
      "   0.03617076+0.j -0.12563390+0.j]\n",
      " [-0.02323800+0.j -0.03991614+0.j  0.01754063+0.j ...,  0.00400600+0.j\n",
      "   0.00485207+0.j -0.04005571+0.j]\n",
      " [ 0.00432458+0.j  0.04716502+0.j -0.00301494+0.j ...,  0.00740842+0.j\n",
      "   0.00336575+0.j  0.00050764+0.j]\n",
      " ..., \n",
      " [ 0.05130296+0.j -0.05759638+0.j  0.05277330+0.j ..., -0.09566457+0.j\n",
      "  -0.08091077+0.j  0.03711063+0.j]\n",
      " [ 0.32860836+0.j -0.12253561+0.j -0.22866486+0.j ...,  0.00714710+0.j\n",
      "  -0.00513221+0.j  0.00558781+0.j]\n",
      " [-0.01606034+0.j -0.04003940+0.j -0.01020451+0.j ..., -0.01803851+0.j\n",
      "  -0.02324227+0.j  0.01333966+0.j]]\n",
      "New Reduced Dimension Data\n",
      "[[  1.69371410e+06+0.j  -6.38909145e+05+0.j  -1.12019839e+05+0.j ...,\n",
      "    3.46864086e-09+0.j   2.38019516e-09+0.j   4.18352248e-09+0.j]\n",
      " [  1.57278283e+06+0.j  -2.06667774e+05+0.j   1.41375294e+06+0.j ...,\n",
      "   -7.34317054e-10+0.j  -4.92142883e-10+0.j  -2.11700492e-09+0.j]\n",
      " [  1.71909362e+06+0.j  -2.52991048e+05+0.j   1.40130898e+06+0.j ...,\n",
      "   -6.50212924e-11+0.j   1.39811029e-09+0.j  -8.25972105e-10+0.j]\n",
      " ..., \n",
      " [ -6.83987938e+05+0.j  -1.19272386e+06+0.j  -8.00012032e+05+0.j ...,\n",
      "    7.88307858e-10+0.j   1.49140466e-09+0.j  -8.47519217e-10+0.j]\n",
      " [ -1.25666200e+06+0.j  -1.87411748e+05+0.j   1.05631457e+05+0.j ...,\n",
      "   -3.89158415e-09+0.j  -2.76240412e-09+0.j  -5.64686762e-09+0.j]\n",
      " [ -1.47209710e+06+0.j  -6.26863471e+05+0.j  -8.73295439e+04+0.j ...,\n",
      "    2.75746415e-09+0.j   3.17440653e-09+0.j  -6.35020849e-10+0.j]]\n"
     ]
    }
   ],
   "source": [
    "pca_out,eigenval,principal_component,cov_matrix = my_PCA(data_matrix)"
   ]
  },
  {
   "cell_type": "code",
   "execution_count": 11,
   "metadata": {},
   "outputs": [
    {
     "name": "stdout",
     "output_type": "stream",
     "text": [
      "(77.504452387+0j)\n",
      "Thus 4 PC will give almost 77%\n"
     ]
    }
   ],
   "source": [
    "#Total 4 Components will be required \n",
    "addition = (eigenval[0]/sum(eigenval))+(eigenval[1]/sum(eigenval))+(eigenval[2]/sum(eigenval))+(eigenval[3]/sum(eigenval))\n",
    "percentage = addition*100\n",
    "print(percentage)\n",
    "print(\"Thus 4 PC will give almost 77%\")"
   ]
  },
  {
   "cell_type": "markdown",
   "metadata": {},
   "source": [
    "### Thus we have sucessfully done the principal component analysis, to reduce the given 49 dimension data(Data file present on github). \n"
   ]
  },
  {
   "cell_type": "markdown",
   "metadata": {},
   "source": [
    "### If we want 75% of our data, we can choose to reduce the data to 4 dimension. Since 4 principal components explains 77% of data. Go through readme file for deeper understanding of Principal Component Analysis."
   ]
  }
 ],
 "metadata": {
  "kernelspec": {
   "display_name": "Python 3",
   "language": "python",
   "name": "python3"
  },
  "language_info": {
   "codemirror_mode": {
    "name": "ipython",
    "version": 3
   },
   "file_extension": ".py",
   "mimetype": "text/x-python",
   "name": "python",
   "nbconvert_exporter": "python",
   "pygments_lexer": "ipython3",
   "version": "3.6.1"
  }
 },
 "nbformat": 4,
 "nbformat_minor": 2
}
